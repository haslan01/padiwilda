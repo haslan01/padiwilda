{
 "cells": [
  {
   "cell_type": "code",
   "execution_count": 7,
   "id": "2e351190",
   "metadata": {},
   "outputs": [
    {
     "ename": "SyntaxError",
     "evalue": "invalid syntax (Temp/ipykernel_3512/3846998527.py, line 5)",
     "output_type": "error",
     "traceback": [
      "\u001b[1;36m  File \u001b[1;32m\"C:\\Users\\Lenovo\\AppData\\Local\\Temp/ipykernel_3512/3846998527.py\"\u001b[1;36m, line \u001b[1;32m5\u001b[0m\n\u001b[1;33m    if nilai = 90:\u001b[0m\n\u001b[1;37m             ^\u001b[0m\n\u001b[1;31mSyntaxError\u001b[0m\u001b[1;31m:\u001b[0m invalid syntax\n"
     ]
    }
   ],
   "source": [
    "nilai= int(input(\"masukkn nilai:\"))\n",
    "index = \"\"\n",
    "print(nilai)\n",
    "\n",
    "if nilai = 90:\n",
    "    index = \"A\"\n",
    "elif nilai = 80:\n",
    "    index = \"B\"\n",
    "else :\n",
    "    index = \"C\"\n",
    "    \n",
    "print(\"index : \", index)"
   ]
  },
  {
   "cell_type": "code",
   "execution_count": null,
   "id": "39ba3648",
   "metadata": {},
   "outputs": [],
   "source": []
  }
 ],
 "metadata": {
  "kernelspec": {
   "display_name": "Python 3 (ipykernel)",
   "language": "python",
   "name": "python3"
  },
  "language_info": {
   "codemirror_mode": {
    "name": "ipython",
    "version": 3
   },
   "file_extension": ".py",
   "mimetype": "text/x-python",
   "name": "python",
   "nbconvert_exporter": "python",
   "pygments_lexer": "ipython3",
   "version": "3.9.7"
  }
 },
 "nbformat": 4,
 "nbformat_minor": 5
}
